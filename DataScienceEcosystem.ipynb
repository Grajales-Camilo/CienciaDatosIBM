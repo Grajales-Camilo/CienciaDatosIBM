{
 "cells": [
  {
   "cell_type": "markdown",
   "id": "f24107e9-8e35-4276-9721-03a95c7b49b9",
   "metadata": {},
   "source": [
    "# Data Science Tools and Ecosystem"
   ]
  },
  {
   "cell_type": "markdown",
   "id": "eab0d151-ecf0-4e18-b9fa-016869454073",
   "metadata": {},
   "source": [
    "In this notebook, Data Science Tools and Ecosystem are summarized."
   ]
  },
  {
   "cell_type": "markdown",
   "id": "0a174130-9129-4096-9667-303d6bdb7ea0",
   "metadata": {},
   "source": [
    "**Objectives:**\n",
    "\n",
    "- Crear un Jupyter Notebook.\n",
    "- Insertar celdas de código y Markdown.\n",
    "- Listar lenguajes y bibliotecas usadas en Data Science.\n",
    "- Crear y visualizar tablas con Markdown.\n",
    "- Compartir el notebook a través de GitHub."
   ]
  },
  {
   "cell_type": "markdown",
   "id": "1fd8dd98-902b-41df-bc05-8a875158de9a",
   "metadata": {},
   "source": [
    "Some of the popular languages that Data Scientists use are:\n",
    "1. Python\n",
    "2. R\n",
    "3. SQL"
   ]
  },
  {
   "cell_type": "markdown",
   "id": "54f62797-684d-4cbd-aaba-f754de31c89a",
   "metadata": {},
   "source": [
    "Some of the commonly used libraries used by Data Scientists include:\n",
    "\n",
    "- Pandas\n",
    "- NumPy\n",
    "- SciPy"
   ]
  },
  {
   "cell_type": "markdown",
   "id": "0b00b1b6-d96a-45a5-a3b3-71a6eb07eb6e",
   "metadata": {},
   "source": [
    "| **Data Science Tools** |\r\n",
    "|------------------------|\r\n",
    "| Jupyter Notebook       |\r\n",
    "| RStudio                |\r\n",
    "| Spyder                 |\r\n"
   ]
  },
  {
   "cell_type": "markdown",
   "id": "88b3b156-1202-446c-b33e-386002a4853e",
   "metadata": {},
   "source": [
    "### Below are a few examples of evaluating arithmetic expressions in Python."
   ]
  },
  {
   "cell_type": "code",
   "execution_count": 22,
   "id": "793bd3bc-d3af-443a-9110-e1877347dee5",
   "metadata": {},
   "outputs": [
    {
     "data": {
      "text/plain": [
       "17"
      ]
     },
     "execution_count": 22,
     "metadata": {},
     "output_type": "execute_result"
    }
   ],
   "source": [
    "#This will convert 200 minutes to hours by dividing by 60:\n",
    "(3*4)+5"
   ]
  },
  {
   "cell_type": "code",
   "execution_count": 24,
   "id": "753c38fb-e56d-4651-ba0c-9b303b662e21",
   "metadata": {},
   "outputs": [
    {
     "data": {
      "text/plain": [
       "3.3333333333333335"
      ]
     },
     "execution_count": 24,
     "metadata": {},
     "output_type": "execute_result"
    }
   ],
   "source": [
    "# This will convert 200 minutes to hours by dividing by 60\n",
    "200/60"
   ]
  },
  {
   "cell_type": "markdown",
   "id": "3568b40a-358f-495f-bc0a-f83cf9421bc7",
   "metadata": {},
   "source": [
    "## Author\n",
    "Juan Camilo Grajales B."
   ]
  },
  {
   "cell_type": "code",
   "execution_count": null,
   "id": "c266001d-0038-4389-8b26-afd962e87f24",
   "metadata": {},
   "outputs": [],
   "source": []
  }
 ],
 "metadata": {
  "kernelspec": {
   "display_name": "Python 3 (ipykernel)",
   "language": "python",
   "name": "python3"
  },
  "language_info": {
   "codemirror_mode": {
    "name": "ipython",
    "version": 3
   },
   "file_extension": ".py",
   "mimetype": "text/x-python",
   "name": "python",
   "nbconvert_exporter": "python",
   "pygments_lexer": "ipython3",
   "version": "3.11.7"
  }
 },
 "nbformat": 4,
 "nbformat_minor": 5
}
